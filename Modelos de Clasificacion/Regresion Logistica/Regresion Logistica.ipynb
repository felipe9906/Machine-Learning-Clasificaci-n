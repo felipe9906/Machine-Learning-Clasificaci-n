{
 "cells": [
  {
   "attachments": {
    "Funcion%20sigmoide.JPG": {
     "image/jpeg": "[encoded data removed]"
    }
   },
   "cell_type": "markdown",
   "id": "fc03030a",
   "metadata": {},
   "source": [
    "# REGRESION LOGISTICA o funcion sigmoide\n",
    "* Clasificacion de elements con naturaleza dicotomica (solo hay dos clases posibles)\n",
    "* Es de los mas usados para clasificar elementos binarios\n",
    "![Funcion%20sigmoide.JPG](attachment:Funcion%20sigmoide.JPG)"
   ]
  },
  {
   "cell_type": "markdown",
   "id": "b1ea988e",
   "metadata": {},
   "source": [
    "## Tipos de regresiones Logisticas\n",
    "* Binaria: Tiene unicamente DOS resultados posibles\n",
    "* Multinomial: Tiene 3 o mas categorias nominales (clasificar la marca de una moto)\n",
    "* Ordinal: Clasifica con 3 o mas categorias ordinales (clasificar un restaurante de 1 a 5)\n",
    "\n"
   ]
  },
  {
   "cell_type": "markdown",
   "id": "b462a8b0",
   "metadata": {},
   "source": [
    "# PROGRAMANDO EL ALGORITMO\n",
    "\n",
    "### El ejercicio corresponde a predecir si una persona tiene un tumor maligno (1) o benigno (0)"
   ]
  },
  {
   "cell_type": "code",
   "execution_count": 1,
   "id": "ddcdeda0",
   "metadata": {},
   "outputs": [],
   "source": [
    "# iMPORTAMOS EL DATASET\n",
    "from sklearn import datasets\n",
    "\n",
    "dataset = datasets.load_breast_cancer()"
   ]
  },
  {
   "cell_type": "code",
   "execution_count": 2,
   "id": "2dc52b92",
   "metadata": {},
   "outputs": [
    {
     "name": "stdout",
     "output_type": "stream",
     "text": [
      ".. _breast_cancer_dataset:\n",
      "\n",
      "Breast cancer wisconsin (diagnostic) dataset\n",
      "--------------------------------------------\n",
      "\n",
      "**Data Set Characteristics:**\n",
      "\n",
      "    :Number of Instances: 569\n",
      "\n",
      "    :Number of Attributes: 30 numeric, predictive attributes and the class\n",
      "\n",
      "    :Attribute Information:\n",
      "        - radius (mean of distances from center to points on the perimeter)\n",
      "        - texture (standard deviation of gray-scale values)\n",
      "        - perimeter\n",
      "        - area\n",
      "        - smoothness (local variation in radius lengths)\n",
      "        - compactness (perimeter^2 / area - 1.0)\n",
      "        - concavity (severity of concave portions of the contour)\n",
      "        - concave points (number of concave portions of the contour)\n",
      "        - symmetry\n",
      "        - fractal dimension (\"coastline approximation\" - 1)\n",
      "\n",
      "        The mean, standard error, and \"worst\" or largest (mean of the three\n",
      "        worst/largest values) of these features were computed for each image,\n",
      "        resulting in 30 features.  For instance, field 0 is Mean Radius, field\n",
      "        10 is Radius SE, field 20 is Worst Radius.\n",
      "\n",
      "        - class:\n",
      "                - WDBC-Malignant\n",
      "                - WDBC-Benign\n",
      "\n",
      "    :Summary Statistics:\n",
      "\n",
      "    ===================================== ====== ======\n",
      "                                           Min    Max\n",
      "    ===================================== ====== ======\n",
      "    radius (mean):                        6.981  28.11\n",
      "    texture (mean):                       9.71   39.28\n",
      "    perimeter (mean):                     43.79  188.5\n",
      "    area (mean):                          143.5  2501.0\n",
      "    smoothness (mean):                    0.053  0.163\n",
      "    compactness (mean):                   0.019  0.345\n",
      "    concavity (mean):                     0.0    0.427\n",
      "    concave points (mean):                0.0    0.201\n",
      "    symmetry (mean):                      0.106  0.304\n",
      "    fractal dimension (mean):             0.05   0.097\n",
      "    radius (standard error):              0.112  2.873\n",
      "    texture (standard error):             0.36   4.885\n",
      "    perimeter (standard error):           0.757  21.98\n",
      "    area (standard error):                6.802  542.2\n",
      "    smoothness (standard error):          0.002  0.031\n",
      "    compactness (standard error):         0.002  0.135\n",
      "    concavity (standard error):           0.0    0.396\n",
      "    concave points (standard error):      0.0    0.053\n",
      "    symmetry (standard error):            0.008  0.079\n",
      "    fractal dimension (standard error):   0.001  0.03\n",
      "    radius (worst):                       7.93   36.04\n",
      "    texture (worst):                      12.02  49.54\n",
      "    perimeter (worst):                    50.41  251.2\n",
      "    area (worst):                         185.2  4254.0\n",
      "    smoothness (worst):                   0.071  0.223\n",
      "    compactness (worst):                  0.027  1.058\n",
      "    concavity (worst):                    0.0    1.252\n",
      "    concave points (worst):               0.0    0.291\n",
      "    symmetry (worst):                     0.156  0.664\n",
      "    fractal dimension (worst):            0.055  0.208\n",
      "    ===================================== ====== ======\n",
      "\n",
      "    :Missing Attribute Values: None\n",
      "\n",
      "    :Class Distribution: 212 - Malignant, 357 - Benign\n",
      "\n",
      "    :Creator:  Dr. William H. Wolberg, W. Nick Street, Olvi L. Mangasarian\n",
      "\n",
      "    :Donor: Nick Street\n",
      "\n",
      "    :Date: November, 1995\n",
      "\n",
      "This is a copy of UCI ML Breast Cancer Wisconsin (Diagnostic) datasets.\n",
      "https://goo.gl/U2Uwz2\n",
      "\n",
      "Features are computed from a digitized image of a fine needle\n",
      "aspirate (FNA) of a breast mass.  They describe\n",
      "characteristics of the cell nuclei present in the image.\n",
      "\n",
      "Separating plane described above was obtained using\n",
      "Multisurface Method-Tree (MSM-T) [K. P. Bennett, \"Decision Tree\n",
      "Construction Via Linear Programming.\" Proceedings of the 4th\n",
      "Midwest Artificial Intelligence and Cognitive Science Society,\n",
      "pp. 97-101, 1992], a classification method which uses linear\n",
      "programming to construct a decision tree.  Relevant features\n",
      "were selected using an exhaustive search in the space of 1-4\n",
      "features and 1-3 separating planes.\n",
      "\n",
      "The actual linear program used to obtain the separating plane\n",
      "in the 3-dimensional space is that described in:\n",
      "[K. P. Bennett and O. L. Mangasarian: \"Robust Linear\n",
      "Programming Discrimination of Two Linearly Inseparable Sets\",\n",
      "Optimization Methods and Software 1, 1992, 23-34].\n",
      "\n",
      "This database is also available through the UW CS ftp server:\n",
      "\n",
      "ftp ftp.cs.wisc.edu\n",
      "cd math-prog/cpo-dataset/machine-learn/WDBC/\n",
      "\n",
      ".. topic:: References\n",
      "\n",
      "   - W.N. Street, W.H. Wolberg and O.L. Mangasarian. Nuclear feature extraction \n",
      "     for breast tumor diagnosis. IS&T/SPIE 1993 International Symposium on \n",
      "     Electronic Imaging: Science and Technology, volume 1905, pages 861-870,\n",
      "     San Jose, CA, 1993.\n",
      "   - O.L. Mangasarian, W.N. Street and W.H. Wolberg. Breast cancer diagnosis and \n",
      "     prognosis via linear programming. Operations Research, 43(4), pages 570-577, \n",
      "     July-August 1995.\n",
      "   - W.H. Wolberg, W.N. Street, and O.L. Mangasarian. Machine learning techniques\n",
      "     to diagnose breast cancer from fine-needle aspirates. Cancer Letters 77 (1994) \n",
      "     163-171.\n"
     ]
    }
   ],
   "source": [
    "dataset.keys() #muestra las llaves para conocer el dataset\n",
    "print(dataset.DESCR) #Muestra la descripcion del dataset"
   ]
  },
  {
   "cell_type": "markdown",
   "id": "cf20ba23",
   "metadata": {},
   "source": [
    "## Definiendo X y Y"
   ]
  },
  {
   "cell_type": "code",
   "execution_count": 3,
   "id": "a15c6921",
   "metadata": {},
   "outputs": [],
   "source": [
    "x_data = dataset.data #Se presentan todos los datos el dataset. Mas de 1D\n",
    "y_data = dataset.target"
   ]
  },
  {
   "cell_type": "markdown",
   "id": "97807307",
   "metadata": {},
   "source": [
    "## Separando datos de prueba y de test"
   ]
  },
  {
   "cell_type": "code",
   "execution_count": 4,
   "id": "620bd9e6",
   "metadata": {},
   "outputs": [],
   "source": [
    "from sklearn.model_selection import train_test_split"
   ]
  },
  {
   "cell_type": "code",
   "execution_count": 5,
   "id": "7a247618",
   "metadata": {},
   "outputs": [],
   "source": [
    "x_train, x_test, y_train, y_test = train_test_split(x_data, y_data, test_size=0.2) #0.2 es la proporcion de division"
   ]
  },
  {
   "cell_type": "markdown",
   "id": "4e73aff4",
   "metadata": {},
   "source": [
    "### Escalando Datos \n",
    "#### Los datos se escalan ya que estan en dimensiones diferentes con escalas de valor en diferentes rangos"
   ]
  },
  {
   "cell_type": "code",
   "execution_count": 6,
   "id": "d25eb6de",
   "metadata": {},
   "outputs": [],
   "source": [
    "from sklearn.preprocessing import StandardScaler"
   ]
  },
  {
   "cell_type": "code",
   "execution_count": 7,
   "id": "4708f8e1",
   "metadata": {},
   "outputs": [],
   "source": [
    "escalar = StandardScaler()"
   ]
  },
  {
   "cell_type": "code",
   "execution_count": 8,
   "id": "d7ff9e22",
   "metadata": {},
   "outputs": [],
   "source": [
    "x_train = escalar.fit_transform(x_train) #Obtiene la media y la varianza para el modelo para luego transformalos\n",
    "x_test = escalar.transform(x_test) #Como ya se obtuvo la media y la varianza en el paso anterior, aca solo se transforman\n"
   ]
  },
  {
   "cell_type": "markdown",
   "id": "9e0ecd22",
   "metadata": {},
   "source": [
    "## Entrenando el Modelo"
   ]
  },
  {
   "cell_type": "code",
   "execution_count": 9,
   "id": "bb032213",
   "metadata": {},
   "outputs": [],
   "source": [
    "from sklearn.linear_model import LogisticRegression\n",
    "algoritmo = LogisticRegression()"
   ]
  },
  {
   "cell_type": "code",
   "execution_count": 10,
   "id": "ffe32501",
   "metadata": {},
   "outputs": [
    {
     "data": {
      "text/plain": [
       "LogisticRegression()"
      ]
     },
     "execution_count": 10,
     "metadata": {},
     "output_type": "execute_result"
    }
   ],
   "source": [
    "algoritmo.fit(x_train, y_train)"
   ]
  },
  {
   "cell_type": "markdown",
   "id": "dee64761",
   "metadata": {},
   "source": [
    "## Realizando una prediccion"
   ]
  },
  {
   "cell_type": "code",
   "execution_count": 11,
   "id": "1761a0c1",
   "metadata": {},
   "outputs": [],
   "source": [
    "y_predict = algoritmo.predict(x_test)"
   ]
  },
  {
   "cell_type": "markdown",
   "id": "7a01eebf",
   "metadata": {},
   "source": [
    "## Metricas de rendimiento"
   ]
  },
  {
   "cell_type": "markdown",
   "id": "0b489af6",
   "metadata": {},
   "source": [
    "#### MATRIZ DE CONFUSION"
   ]
  },
  {
   "cell_type": "code",
   "execution_count": 12,
   "id": "477fe850",
   "metadata": {},
   "outputs": [],
   "source": [
    "from sklearn.metrics import confusion_matrix\n",
    "matriz = confusion_matrix(y_test, y_predict)\n",
    "\n",
    "#Matriz de confusion\n",
    "#print(\"[VN, FP]\") #Verdaderos positivos, falsos negativos\n",
    "#print(\"[FN, VP]\") #falsos positivos, verdaderos negativos"
   ]
  },
  {
   "cell_type": "code",
   "execution_count": 13,
   "id": "8777a19f",
   "metadata": {},
   "outputs": [
    {
     "data": {
      "text/plain": [
       "array([[38,  3],\n",
       "       [ 1, 72]], dtype=int64)"
      ]
     },
     "execution_count": 13,
     "metadata": {},
     "output_type": "execute_result"
    }
   ],
   "source": [
    "matriz #Analizamos que hay 41 verdaderos positivos y 70 verdaderos negativos"
   ]
  },
  {
   "cell_type": "markdown",
   "id": "1a648f86",
   "metadata": {},
   "source": [
    "### Precision del modelo\n",
    "Datos positivos respecto a los verdaderos que pronostico la maquina"
   ]
  },
  {
   "cell_type": "code",
   "execution_count": 14,
   "id": "0717865a",
   "metadata": {},
   "outputs": [
    {
     "data": {
      "text/plain": [
       "0.96"
      ]
     },
     "execution_count": 14,
     "metadata": {},
     "output_type": "execute_result"
    }
   ],
   "source": [
    "from sklearn.metrics import precision_score\n",
    "precision_score(y_test, y_predict)"
   ]
  },
  {
   "cell_type": "markdown",
   "id": "405df32f",
   "metadata": {},
   "source": [
    "### Exactitud del modelo\n",
    "Casos POSITIVOS Y NEGATIVOS predichos correctamente por la maquina"
   ]
  },
  {
   "cell_type": "code",
   "execution_count": 15,
   "id": "9fc68dfd",
   "metadata": {},
   "outputs": [
    {
     "data": {
      "text/plain": [
       "0.9649122807017544"
      ]
     },
     "execution_count": 15,
     "metadata": {},
     "output_type": "execute_result"
    }
   ],
   "source": [
    "from sklearn.metrics import accuracy_score\n",
    "accuracy_score(y_test, y_predict)"
   ]
  },
  {
   "cell_type": "markdown",
   "id": "9debfa80",
   "metadata": {},
   "source": [
    "### Sensibilidad del Modelo\n",
    "Verdaderos Positivos sobre el total de positivos el la vida real"
   ]
  },
  {
   "cell_type": "code",
   "execution_count": 16,
   "id": "e2610f36",
   "metadata": {},
   "outputs": [
    {
     "data": {
      "text/plain": [
       "0.9863013698630136"
      ]
     },
     "execution_count": 16,
     "metadata": {},
     "output_type": "execute_result"
    }
   ],
   "source": [
    "from sklearn.metrics import recall_score\n",
    "recall_score(y_test, y_predict)"
   ]
  },
  {
   "cell_type": "markdown",
   "id": "a883e65b",
   "metadata": {},
   "source": [
    "### Puntaje F1\n",
    "Combinacion armonica entre la presicion y la sensibilidad"
   ]
  },
  {
   "cell_type": "code",
   "execution_count": 17,
   "id": "cdf41068",
   "metadata": {},
   "outputs": [
    {
     "data": {
      "text/plain": [
       "0.9729729729729729"
      ]
     },
     "execution_count": 17,
     "metadata": {},
     "output_type": "execute_result"
    }
   ],
   "source": [
    "from sklearn.metrics import f1_score\n",
    "f1_score(y_test, y_predict)"
   ]
  },
  {
   "cell_type": "markdown",
   "id": "3838aa23",
   "metadata": {},
   "source": [
    "### Calculo de la curva ROC-AUC"
   ]
  },
  {
   "cell_type": "code",
   "execution_count": 19,
   "id": "1cc3da59",
   "metadata": {},
   "outputs": [
    {
     "data": {
      "text/plain": [
       "0.9565653190778483"
      ]
     },
     "execution_count": 19,
     "metadata": {},
     "output_type": "execute_result"
    }
   ],
   "source": [
    "from sklearn.metrics import roc_auc_score\n",
    "roc_auc_score(y_test, y_predict)"
   ]
  }
 ],
 "metadata": {
  "kernelspec": {
   "display_name": "Python 3 (ipykernel)",
   "language": "python",
   "name": "python3"
  },
  "language_info": {
   "codemirror_mode": {
    "name": "ipython",
    "version": 3
   },
   "file_extension": ".py",
   "mimetype": "text/x-python",
   "name": "python",
   "nbconvert_exporter": "python",
   "pygments_lexer": "ipython3",
   "version": "3.9.13"
  }
 },
 "nbformat": 4,
 "nbformat_minor": 5
}
