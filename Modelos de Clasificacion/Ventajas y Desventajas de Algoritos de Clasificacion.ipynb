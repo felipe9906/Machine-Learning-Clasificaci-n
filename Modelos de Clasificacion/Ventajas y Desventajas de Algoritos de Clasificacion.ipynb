{
 "cells": [
  {
   "cell_type": "markdown",
   "id": "2a71f6a6",
   "metadata": {},
   "source": [
    "# Ventajas y Desventajas de Algoritos de Clasificacion"
   ]
  },
  {
   "cell_type": "markdown",
   "id": "8c625726",
   "metadata": {},
   "source": [
    "## 1. REGRESION LOGISTICA\n",
    "* Se usa cuando el resultado es binario\n",
    "### VENTAJAS\n",
    "* No tiene sobreajuste\n",
    "* Se regulariza las variables por lo que no importa la dimensionalidad\n",
    "* Rapido de entrenar por lo que soporta grandes cjtos de entrenamiento\n",
    "\n",
    "### DESVENTAJAS\n",
    "* Tiene dificultades con datos no lineales\n",
    "* Puede sufrur con datos atipicos\n",
    "* A veces no capta relaciones complejas entre variables"
   ]
  },
  {
   "cell_type": "markdown",
   "id": "c1a23506",
   "metadata": {},
   "source": [
    "## 2. K vecinos cercanos\n",
    "* Esta basado en la similitud de caracteristicas\n",
    "\n",
    "### VENTAJAS\n",
    "* Es simple y poderoso\n",
    "* Puede modelar problemas multiclase\n",
    "\n",
    "## DESVENTAJAS\n",
    "* Es costoso y lento para predecir nuevas instancias\n",
    "* Funciona mal en cjto de datos de alta dimensionalidad\n",
    "\n",
    "### USOS\n",
    "* Deteccion de intrusos\n",
    "* Sistema de recomendacion  \n",
    "* Correccion de ortografia"
   ]
  },
  {
   "cell_type": "markdown",
   "id": "51b91f69",
   "metadata": {},
   "source": [
    "## 3. VECTORES DE SOPORTE\n",
    "\n",
    "### Ventajas\n",
    "* Se pueden modelar relaciones no lineales con facilidad\n",
    "* Robusto al ruido\n",
    "\n",
    "### DESVENTAJAS\n",
    "* Necesidad de elegir un buen modelo de kernel\n",
    "* Los parametros del modelo son difiiles de interpretar\n",
    "* Requieren memoria y poder de procesamiento significativa\n",
    "* Son lentos cuando los datos de entrenamiento son demasiados\n",
    "\n",
    "### USOS\n",
    "Reconocimiento de letras a mano\n",
    "Clasificacion de texto e imagenes"
   ]
  },
  {
   "cell_type": "markdown",
   "id": "06e0a0cc",
   "metadata": {},
   "source": [
    "## 4. Naive Bayes (Probabilidad Teorema de Bayes)\n",
    "\n",
    "### VENTAJAS\n",
    "* Es rapido\n",
    "* Facil de entender\n",
    "\n",
    "### DESVENTAJAS\n",
    "* Falla al estimar caracteristicas raras no entrenadas\n",
    "* Sufre al tener caracteristicas irrelevantes\n",
    "\n",
    "### USOS\n",
    "* Reconocimiento facial\n",
    "* Analisis de sentimientos\n",
    "* Deteccion de spam"
   ]
  },
  {
   "cell_type": "markdown",
   "id": "a8082aa2",
   "metadata": {},
   "source": [
    "## 5. Arboles de Desicion\n",
    "\n",
    "### VENTAJAS\n",
    "* Robusto al ruido y valores perdidos\n",
    "* Rapido\n",
    "Excelente para modelar relaciones complejas no lineales\n",
    "\n",
    "### DESVENTAJAS\n",
    "* Los arboles complejos son dificiles de interpretar\n",
    "\n",
    "### USOS\n",
    "* Diagnostico medicos\n",
    "* Analisis de riesgo crediticio\n"
   ]
  },
  {
   "cell_type": "markdown",
   "id": "f3096637",
   "metadata": {},
   "source": [
    "## 6. BOSQUES ALEATORIOS\n",
    "\n",
    "### VENTAJAS\n",
    "* Rara vez se sobreajusta\n",
    "* No es encesario transformar variables\n",
    "\n",
    "### DESVENTAJAS\n",
    "* Dificil de interpretar "
   ]
  },
  {
   "cell_type": "code",
   "execution_count": null,
   "id": "2ec9aa5d",
   "metadata": {},
   "outputs": [],
   "source": []
  },
  {
   "cell_type": "code",
   "execution_count": null,
   "id": "343db3e4",
   "metadata": {},
   "outputs": [],
   "source": []
  }
 ],
 "metadata": {
  "kernelspec": {
   "display_name": "Python 3 (ipykernel)",
   "language": "python",
   "name": "python3"
  },
  "language_info": {
   "codemirror_mode": {
    "name": "ipython",
    "version": 3
   },
   "file_extension": ".py",
   "mimetype": "text/x-python",
   "name": "python",
   "nbconvert_exporter": "python",
   "pygments_lexer": "ipython3",
   "version": "3.9.13"
  }
 },
 "nbformat": 4,
 "nbformat_minor": 5
}
