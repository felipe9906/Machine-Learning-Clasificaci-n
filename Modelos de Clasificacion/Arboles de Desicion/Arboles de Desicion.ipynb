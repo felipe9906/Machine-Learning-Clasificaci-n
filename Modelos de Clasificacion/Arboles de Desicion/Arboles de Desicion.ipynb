{
 "cells": [
  {
   "cell_type": "markdown",
   "id": "31aae93a",
   "metadata": {},
   "source": [
    "# Arboles de Decision"
   ]
  },
  {
   "cell_type": "markdown",
   "id": "e1e02579",
   "metadata": {},
   "source": [
    "### Ventajas\n",
    "* Capturan facilmente patrones no lineales\n",
    "* Requiere menos preprocesamietno de datos\n",
    "* Se puede usar para recuperar valores perdidos en cjto de datos\n",
    "* No tiene suposiciones en la distribucion de los datos ya que no influye en su logica\n",
    "\n",
    "### Desventajas\n",
    "* En sensible a datos que produzcan ruido. Se pueden sobredimensionar\n",
    "* Pequeñas variaciones pueden cambiar considerablemente el modelo\n",
    "* No funciona con datos desequilibrados"
   ]
  },
  {
   "cell_type": "code",
   "execution_count": 3,
   "id": "06887f7f",
   "metadata": {},
   "outputs": [],
   "source": [
    "# iMPORTAMOS EL DATASET\n",
    "from sklearn import datasets\n",
    "\n",
    "dataset = datasets.load_breast_cancer()"
   ]
  },
  {
   "cell_type": "code",
   "execution_count": 4,
   "id": "d6ba6756",
   "metadata": {
    "scrolled": false
   },
   "outputs": [
    {
     "data": {
      "text/plain": [
       "dict_keys(['data', 'target', 'frame', 'target_names', 'DESCR', 'feature_names', 'filename', 'data_module'])"
      ]
     },
     "execution_count": 4,
     "metadata": {},
     "output_type": "execute_result"
    }
   ],
   "source": [
    "dataset.keys() #muestra las llaves para conocer el dataset"
   ]
  },
  {
   "cell_type": "code",
   "execution_count": 5,
   "id": "9ea67de2",
   "metadata": {},
   "outputs": [],
   "source": [
    "x_data = dataset.data #Se presentan todos los datos el dataset. Mas de 1D\n",
    "y_data = dataset.target"
   ]
  },
  {
   "cell_type": "code",
   "execution_count": 6,
   "id": "af385389",
   "metadata": {},
   "outputs": [],
   "source": [
    "from sklearn.model_selection import train_test_split\n",
    "x_train, x_test, y_train, y_test = train_test_split(x_data, y_data, test_size=0.2) #0.2 es la proporcion de division"
   ]
  },
  {
   "cell_type": "markdown",
   "id": "e660f07a",
   "metadata": {},
   "source": [
    "## Definiendo el algoritmo"
   ]
  },
  {
   "cell_type": "code",
   "execution_count": 8,
   "id": "3ae9e80c",
   "metadata": {},
   "outputs": [],
   "source": [
    "from sklearn.tree import DecisionTreeClassifier"
   ]
  },
  {
   "cell_type": "code",
   "execution_count": 46,
   "id": "61c42c37",
   "metadata": {},
   "outputs": [],
   "source": [
    "algoritmo = DecisionTreeClassifier(criterion=\"entropy\") #Criterio = \"Gini\" para cambiar al indice de Gini"
   ]
  },
  {
   "cell_type": "markdown",
   "id": "59da7e22",
   "metadata": {},
   "source": [
    "## Entreno el modelo"
   ]
  },
  {
   "cell_type": "code",
   "execution_count": 47,
   "id": "7df782e4",
   "metadata": {},
   "outputs": [
    {
     "data": {
      "text/plain": [
       "DecisionTreeClassifier()"
      ]
     },
     "execution_count": 47,
     "metadata": {},
     "output_type": "execute_result"
    }
   ],
   "source": [
    "algoritmo.fit(x_train, y_train)"
   ]
  },
  {
   "cell_type": "code",
   "execution_count": 48,
   "id": "6bfec184",
   "metadata": {},
   "outputs": [],
   "source": [
    "y_predict = algoritmo.predict(x_test)"
   ]
  },
  {
   "cell_type": "markdown",
   "id": "ef9ceee4",
   "metadata": {},
   "source": [
    "## Verificando Los Resultados"
   ]
  },
  {
   "cell_type": "code",
   "execution_count": 49,
   "id": "c0a49fb3",
   "metadata": {},
   "outputs": [
    {
     "data": {
      "text/plain": [
       "array([[33,  3],\n",
       "       [ 4, 74]], dtype=int64)"
      ]
     },
     "execution_count": 49,
     "metadata": {},
     "output_type": "execute_result"
    }
   ],
   "source": [
    "from sklearn.metrics import confusion_matrix\n",
    "matriz = confusion_matrix(y_test, y_predict)\n",
    "matriz\n",
    "\n",
    "#Matriz de confusion\n",
    "#print(\"[VN, FP]\") #Verdaderos positivos, falsos negativos\n",
    "#print(\"[FN, VP]\") #falsos positivos, verdaderos negativos"
   ]
  },
  {
   "cell_type": "code",
   "execution_count": 50,
   "id": "ac580b1c",
   "metadata": {},
   "outputs": [
    {
     "data": {
      "text/plain": [
       "(33, 3, 4, 74)"
      ]
     },
     "execution_count": 50,
     "metadata": {},
     "output_type": "execute_result"
    }
   ],
   "source": [
    "vn, fp, fn, vp = confusion_matrix(y_test, y_predict).ravel()\n",
    "(vn, fp, fn, vp)"
   ]
  },
  {
   "cell_type": "markdown",
   "id": "67a31d60",
   "metadata": {},
   "source": [
    "## Precision del Modelo\n",
    "Positivos predichos correctos sobre todos los predichos por la maquina"
   ]
  },
  {
   "cell_type": "code",
   "execution_count": 51,
   "id": "e0a123ac",
   "metadata": {},
   "outputs": [
    {
     "data": {
      "text/plain": [
       "0.961038961038961"
      ]
     },
     "execution_count": 51,
     "metadata": {},
     "output_type": "execute_result"
    }
   ],
   "source": [
    "from sklearn.metrics import precision_score\n",
    "precision_score(y_test, y_predict) # Arroja una buena prediccion"
   ]
  },
  {
   "cell_type": "code",
   "execution_count": null,
   "id": "17efd893",
   "metadata": {},
   "outputs": [],
   "source": [
    "## "
   ]
  }
 ],
 "metadata": {
  "kernelspec": {
   "display_name": "Python 3 (ipykernel)",
   "language": "python",
   "name": "python3"
  },
  "language_info": {
   "codemirror_mode": {
    "name": "ipython",
    "version": 3
   },
   "file_extension": ".py",
   "mimetype": "text/x-python",
   "name": "python",
   "nbconvert_exporter": "python",
   "pygments_lexer": "ipython3",
   "version": "3.9.13"
  }
 },
 "nbformat": 4,
 "nbformat_minor": 5
}
