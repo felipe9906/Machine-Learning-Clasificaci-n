{
 "cells": [
  {
   "cell_type": "markdown",
   "id": "c5652221",
   "metadata": {},
   "source": [
    "# Naive Bayes\n",
    "* Supone independencias entre caracteristicas\n",
    "* Es poderoso para grandes conjuntos de datos\n",
    "* Necesita menos datos de entrenamiento\n",
    "* Funciona mejor para variables categoricas\n",
    "\n",
    "### Desventajas\n",
    "* Si la variale categorica no esta dentro del cjo de datos de entrenamiento el algoritmo asignara una probabilidad igual a CERO y no podra hacer una predccion (FRECUENCIA CERO)\n",
    "* En la vida real es casi imposible de encontrar predictores totalmente independiente"
   ]
  },
  {
   "cell_type": "code",
   "execution_count": 1,
   "id": "65b68520",
   "metadata": {},
   "outputs": [],
   "source": [
    "# iMPORTAMOS EL DATASET\n",
    "from sklearn import datasets\n",
    "\n",
    "dataset = datasets.load_breast_cancer()"
   ]
  },
  {
   "cell_type": "code",
   "execution_count": 2,
   "id": "d6ba6756",
   "metadata": {},
   "outputs": [
    {
     "data": {
      "text/plain": [
       "dict_keys(['data', 'target', 'frame', 'target_names', 'DESCR', 'feature_names', 'filename', 'data_module'])"
      ]
     },
     "execution_count": 2,
     "metadata": {},
     "output_type": "execute_result"
    }
   ],
   "source": [
    "dataset.keys() #muestra las llaves para conocer el dataset"
   ]
  },
  {
   "cell_type": "code",
   "execution_count": 3,
   "id": "9ea67de2",
   "metadata": {},
   "outputs": [],
   "source": [
    "x_data = dataset.data #Se presentan todos los datos el dataset. Mas de 1D\n",
    "y_data = dataset.target"
   ]
  },
  {
   "cell_type": "code",
   "execution_count": 4,
   "id": "af385389",
   "metadata": {},
   "outputs": [],
   "source": [
    "from sklearn.model_selection import train_test_split\n",
    "x_train, x_test, y_train, y_test = train_test_split(x_data, y_data, test_size=0.2) #0.2 es la proporcion de division"
   ]
  },
  {
   "cell_type": "markdown",
   "id": "9d02fb00",
   "metadata": {},
   "source": [
    "## Importamos el modelo"
   ]
  },
  {
   "cell_type": "code",
   "execution_count": 5,
   "id": "ecf22e24",
   "metadata": {},
   "outputs": [],
   "source": [
    "from sklearn.naive_bayes import GaussianNB\n",
    "algoritmo = GaussianNB()"
   ]
  },
  {
   "cell_type": "markdown",
   "id": "b3301564",
   "metadata": {},
   "source": [
    "## Entrenando el Modelo"
   ]
  },
  {
   "cell_type": "code",
   "execution_count": 6,
   "id": "3865fe82",
   "metadata": {},
   "outputs": [
    {
     "data": {
      "text/plain": [
       "GaussianNB()"
      ]
     },
     "execution_count": 6,
     "metadata": {},
     "output_type": "execute_result"
    }
   ],
   "source": [
    "algoritmo.fit(x_train, y_train)"
   ]
  },
  {
   "cell_type": "code",
   "execution_count": 7,
   "id": "39d59dda",
   "metadata": {},
   "outputs": [],
   "source": [
    "y_predict = algoritmo.predict(x_test)"
   ]
  },
  {
   "cell_type": "markdown",
   "id": "6ba5a5b1",
   "metadata": {},
   "source": [
    "## Matriz de Confusion"
   ]
  },
  {
   "cell_type": "code",
   "execution_count": 8,
   "id": "27a050e7",
   "metadata": {},
   "outputs": [
    {
     "data": {
      "text/plain": [
       "array([[41,  5],\n",
       "       [ 2, 66]], dtype=int64)"
      ]
     },
     "execution_count": 8,
     "metadata": {},
     "output_type": "execute_result"
    }
   ],
   "source": [
    "from sklearn.metrics import confusion_matrix\n",
    "matriz = confusion_matrix(y_test, y_predict)\n",
    "matriz\n",
    "\n",
    "#Matriz de confusion\n",
    "#print(\"[VN, FP]\") #Verdaderos positivos, falsos negativos\n",
    "#print(\"[FN, VP]\") #falsos positivos, verdaderos negativos"
   ]
  },
  {
   "cell_type": "markdown",
   "id": "67a31d60",
   "metadata": {},
   "source": [
    "## Precision del Modelo"
   ]
  },
  {
   "cell_type": "code",
   "execution_count": 9,
   "id": "e0a123ac",
   "metadata": {},
   "outputs": [
    {
     "data": {
      "text/plain": [
       "0.9295774647887324"
      ]
     },
     "execution_count": 9,
     "metadata": {},
     "output_type": "execute_result"
    }
   ],
   "source": [
    "from sklearn.metrics import precision_score\n",
    "precision_score(y_test, y_predict) # Arroja una buena prediccion"
   ]
  },
  {
   "cell_type": "code",
   "execution_count": 10,
   "id": "96a5860d",
   "metadata": {},
   "outputs": [
    {
     "data": {
      "text/plain": [
       "0.9295774647887324"
      ]
     },
     "execution_count": 10,
     "metadata": {},
     "output_type": "execute_result"
    }
   ],
   "source": [
    "66/71"
   ]
  }
 ],
 "metadata": {
  "kernelspec": {
   "display_name": "Python 3 (ipykernel)",
   "language": "python",
   "name": "python3"
  },
  "language_info": {
   "codemirror_mode": {
    "name": "ipython",
    "version": 3
   },
   "file_extension": ".py",
   "mimetype": "text/x-python",
   "name": "python",
   "nbconvert_exporter": "python",
   "pygments_lexer": "ipython3",
   "version": "3.9.13"
  }
 },
 "nbformat": 4,
 "nbformat_minor": 5
}
